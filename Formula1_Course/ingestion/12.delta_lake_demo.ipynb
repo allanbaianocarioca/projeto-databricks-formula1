{
 "cells": [
  {
   "cell_type": "markdown",
   "metadata": {
    "application/vnd.databricks.v1+cell": {
     "cellMetadata": {
      "byteLimit": 2048000,
      "implicitDf": true,
      "rowLimit": 10000
     },
     "inputWidgets": {},
     "nuid": "ef973083-fec8-4edd-992b-177cec0e3cf1",
     "showTitle": false,
     "tableResultSettingsMap": {},
     "title": ""
    }
   },
   "source": [
    "##### 3.Merge Statements\n"
   ]
  },
  {
   "cell_type": "code",
   "execution_count": 0,
   "metadata": {
    "application/vnd.databricks.v1+cell": {
     "cellMetadata": {
      "byteLimit": 2048000,
      "rowLimit": 10000
     },
     "inputWidgets": {},
     "nuid": "34f0e199-bf76-4729-951d-8f8b765d6945",
     "showTitle": false,
     "tableResultSettingsMap": {},
     "title": ""
    }
   },
   "outputs": [],
   "source": [
    "drivers_day1_df = spark.read \\\n",
    "  .option(\"inferSchema\", True) \\\n",
    "  .json('/mnt/formula1dl/raw/2021-03-28/drivers.json') \\\n",
    "  .filter('driverId <= 10') \\\n",
    "  .select('driverId', 'dob', 'name.forename', 'name.surname')\n",
    "\n",
    "display(drivers_day1_df)"
   ]
  },
  {
   "cell_type": "code",
   "execution_count": 0,
   "metadata": {
    "application/vnd.databricks.v1+cell": {
     "cellMetadata": {
      "byteLimit": 2048000,
      "rowLimit": 10000
     },
     "inputWidgets": {},
     "nuid": "d917ccd5-faca-49cc-bd80-ca7c26c0f98d",
     "showTitle": false,
     "tableResultSettingsMap": {},
     "title": ""
    }
   },
   "outputs": [],
   "source": [
    "drivers_day1_df.createOrReplaceTempView(\"drivers_day1\")"
   ]
  },
  {
   "cell_type": "code",
   "execution_count": 0,
   "metadata": {
    "application/vnd.databricks.v1+cell": {
     "cellMetadata": {
      "byteLimit": 2048000,
      "rowLimit": 10000
     },
     "inputWidgets": {},
     "nuid": "4e29904a-00c0-4156-893a-e8e97e911d23",
     "showTitle": false,
     "tableResultSettingsMap": {},
     "title": ""
    }
   },
   "outputs": [],
   "source": [
    "drivers_day2_df = spark.read \\\n",
    "  .option(\"inferSchema\", True) \\\n",
    "  .json('/mnt/formula1dl/raw/2021-03-28/drivers.json') \\\n",
    "  .filter('driverId between 6 and 15') \\\n",
    "  .select('driverId', 'dob', 'name.forename', 'name.surname')\n",
    "\n",
    "display(drivers_day2_df)"
   ]
  },
  {
   "cell_type": "code",
   "execution_count": 0,
   "metadata": {
    "application/vnd.databricks.v1+cell": {
     "cellMetadata": {
      "byteLimit": 2048000,
      "rowLimit": 10000
     },
     "inputWidgets": {},
     "nuid": "6fb84244-15f8-4ca6-a912-95be2793a1cc",
     "showTitle": false,
     "tableResultSettingsMap": {},
     "title": ""
    }
   },
   "outputs": [],
   "source": [
    "drivers_day2_df.createOrReplaceTempView(\"drivers_day2\")"
   ]
  },
  {
   "cell_type": "code",
   "execution_count": 0,
   "metadata": {
    "application/vnd.databricks.v1+cell": {
     "cellMetadata": {
      "byteLimit": 2048000,
      "rowLimit": 10000
     },
     "inputWidgets": {},
     "nuid": "7e1554a1-fba3-45c4-91db-c30395c81b70",
     "showTitle": false,
     "tableResultSettingsMap": {},
     "title": ""
    }
   },
   "outputs": [],
   "source": [
    "from pyspark.sql.functions import upper\n",
    "\n",
    "drivers_day3_df = spark.read \\\n",
    "  .option(\"inferSchema\", True) \\\n",
    "  .json('/mnt/formula1dl/raw/2021-03-28/drivers.json') \\\n",
    "  .filter('driverId between 1 and 5 or driverId between 16 and 20') \\\n",
    "  .select('driverId', 'dob', upper('name.forename').alias('forename'), upper('name.surname').alias('surname'))\n",
    "\n",
    "display(drivers_day3_df)"
   ]
  },
  {
   "cell_type": "code",
   "execution_count": 0,
   "metadata": {
    "application/vnd.databricks.v1+cell": {
     "cellMetadata": {
      "byteLimit": 2048000,
      "implicitDf": true,
      "rowLimit": 10000
     },
     "inputWidgets": {},
     "nuid": "342998c6-f270-4f47-a8a0-77edd3885e6c",
     "showTitle": false,
     "tableResultSettingsMap": {},
     "title": ""
    }
   },
   "outputs": [],
   "source": [
    "%sql\n",
    "create table if not exists f1_demo.drivers_merge (\n",
    "driverId  INT,\n",
    "dob DATE,\n",
    "forname STRING,\n",
    "surname STRING,\n",
    "createDate DATE,\n",
    "updatedDate DATE\n",
    "\n",
    ")\n",
    "using delta\n",
    "location '/mnt/formula1dl/demo/drivers_merge'"
   ]
  },
  {
   "cell_type": "code",
   "execution_count": 0,
   "metadata": {
    "application/vnd.databricks.v1+cell": {
     "cellMetadata": {
      "byteLimit": 2048000,
      "implicitDf": true,
      "rowLimit": 10000
     },
     "inputWidgets": {},
     "nuid": "34c8615c-2369-49aa-95ef-9bfcbc8916b4",
     "showTitle": false,
     "tableResultSettingsMap": {},
     "title": ""
    }
   },
   "outputs": [],
   "source": [
    "%sql\n",
    "\n",
    "MERGE INTO f1_demo.drivers_merge tgt\n",
    "USING drivers_day1 upd ON tgt.driverId = upd.driverId\n",
    "when matched then \n",
    "  update set tgt.dob = upd.dob,\n",
    "             tgt.forname = upd.forename,\n",
    "             tgt.surname = upd.surname,\n",
    "             tgt.updatedDate = current_timestamp\n",
    "when not matched\n",
    "  then insert (driverId,dob,forname,surname,createDate) values (driverId,dob,forename,surname,current_timestamp)"
   ]
  },
  {
   "cell_type": "code",
   "execution_count": 0,
   "metadata": {
    "application/vnd.databricks.v1+cell": {
     "cellMetadata": {
      "byteLimit": 2048000,
      "implicitDf": true,
      "rowLimit": 10000
     },
     "inputWidgets": {},
     "nuid": "d186f0b4-6739-4626-9020-135e975c93f7",
     "showTitle": false,
     "tableResultSettingsMap": {},
     "title": ""
    }
   },
   "outputs": [],
   "source": [
    "%sql\n",
    "select *\n",
    "from f1_demo.drivers_merge"
   ]
  },
  {
   "cell_type": "code",
   "execution_count": 0,
   "metadata": {
    "application/vnd.databricks.v1+cell": {
     "cellMetadata": {
      "byteLimit": 2048000,
      "implicitDf": true,
      "rowLimit": 10000
     },
     "inputWidgets": {},
     "nuid": "c3629fd0-7f31-4b61-8b0f-7d528bd774b5",
     "showTitle": false,
     "tableResultSettingsMap": {},
     "title": ""
    }
   },
   "outputs": [],
   "source": [
    "%sql\n",
    "\n",
    "MERGE INTO f1_demo.drivers_merge tgt\n",
    "USING drivers_day2 upd ON tgt.driverId = upd.driverId\n",
    "when matched then \n",
    "  update set tgt.dob = upd.dob,\n",
    "             tgt.forname = upd.forename,\n",
    "             tgt.surname = upd.surname,\n",
    "             tgt.updatedDate = current_timestamp\n",
    "when not matched\n",
    "  then insert (driverId,dob,forname,surname,createDate) values (driverId,dob,forename,surname,current_timestamp)\n"
   ]
  },
  {
   "cell_type": "code",
   "execution_count": 0,
   "metadata": {
    "application/vnd.databricks.v1+cell": {
     "cellMetadata": {
      "byteLimit": 2048000,
      "implicitDf": true,
      "rowLimit": 10000
     },
     "inputWidgets": {},
     "nuid": "38771f99-4b1c-4d5c-add7-2ac6b0eb1445",
     "showTitle": false,
     "tableResultSettingsMap": {},
     "title": ""
    }
   },
   "outputs": [],
   "source": [
    "%sql\n",
    "select * \n",
    "from f1_demo.drivers_merge"
   ]
  },
  {
   "cell_type": "code",
   "execution_count": 0,
   "metadata": {
    "application/vnd.databricks.v1+cell": {
     "cellMetadata": {
      "byteLimit": 2048000,
      "rowLimit": 10000
     },
     "inputWidgets": {},
     "nuid": "2b093351-3702-4fc2-ad47-2b8f7a4f6c53",
     "showTitle": false,
     "tableResultSettingsMap": {},
     "title": ""
    }
   },
   "outputs": [],
   "source": [
    "from pyspark.sql.functions import current_timestamp\n",
    "from delta.tables import DeltaTable\n",
    "\n",
    "deltaTable = DeltaTable.forPath(spark, \"/mnt/formula1dl/demo/drivers_merge\")\n",
    "\n",
    "\n",
    "deltaTable.alias(\"tgt\").merge(\n",
    "    drivers_day3_df.alias(\"upd\"),\n",
    "    \"tgt.driverId = upd.driverId\") \\\n",
    "  .whenMatchedUpdate(set = { \"dob\" : \"upd.dob\", \"forname\" : \"upd.forename\", \"surname\" : \"upd.surname\", \"updatedDate\": \"current_timestamp()\" } ) \\\n",
    "  .whenNotMatchedInsert(values =\n",
    "    {\n",
    "      \"driverId\": \"upd.driverId\",\n",
    "      \"dob\": \"upd.dob\",\n",
    "      \"forname\" : \"upd.forename\", \n",
    "      \"surname\" : \"upd.surname\", \n",
    "      \"createDate\": \"current_timestamp()\"\n",
    "    }\n",
    "  ) \\\n",
    "  .execute()"
   ]
  },
  {
   "cell_type": "code",
   "execution_count": 0,
   "metadata": {
    "application/vnd.databricks.v1+cell": {
     "cellMetadata": {
      "byteLimit": 2048000,
      "implicitDf": true,
      "rowLimit": 10000
     },
     "inputWidgets": {},
     "nuid": "57f1582d-f14b-444b-bad2-d8f7d69611b8",
     "showTitle": false,
     "tableResultSettingsMap": {},
     "title": ""
    }
   },
   "outputs": [],
   "source": [
    "%sql\n",
    "select *\n",
    "from f1_demo.drivers_merge"
   ]
  }
 ],
 "metadata": {
  "application/vnd.databricks.v1+notebook": {
   "computePreferences": null,
   "dashboards": [],
   "environmentMetadata": {
    "base_environment": "",
    "environment_version": "2"
   },
   "inputWidgetPreferences": null,
   "language": "python",
   "notebookMetadata": {
    "mostRecentlyExecutedCommandWithImplicitDF": {
     "commandId": 7414891516238339,
     "dataframes": [
      "_sqldf"
     ]
    },
    "pythonIndentUnit": 4
   },
   "notebookName": "12.delta_lake_demo",
   "widgets": {}
  },
  "language_info": {
   "name": "python"
  }
 },
 "nbformat": 4,
 "nbformat_minor": 0
}
